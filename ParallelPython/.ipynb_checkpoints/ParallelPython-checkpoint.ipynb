{
 "cells": [
  {
   "cell_type": "markdown",
   "metadata": {},
   "source": [
    "# Parallel Python"
   ]
  },
  {
   "cell_type": "markdown",
   "metadata": {},
   "source": [
    "### Map-Reduce"
   ]
  },
  {
   "cell_type": "markdown",
   "metadata": {},
   "source": [
    "Remember that PCA works as follows:\n",
    "\n",
    "- Center the data\n",
    "- Compute the covariance matrix\n",
    "- Compute the eigendecomposition of the covariance matrix"
   ]
  },
  {
   "cell_type": "markdown",
   "metadata": {},
   "source": [
    "We can use map-reduce operations to write PCA. First, let's write PCA leveraging broadcasting in NumPy"
   ]
  },
  {
   "cell_type": "code",
   "execution_count": 1,
   "metadata": {},
   "outputs": [],
   "source": [
    "import numpy as np\n",
    "from functools import reduce\n",
    "\n",
    "# Define lambda functions \n",
    "add = lambda x, y: x + y\n",
    "subtract = lambda x, y: x - y\n",
    "mean = lambda x: reduce(add, x) / len(x)\n",
    "\n",
    "def outer(x):\n",
    "    \"\"\"Computes the outer product of a vector with itself.\"\"\"\n",
    "    xxx = np.repeat(x, len(x))\n",
    "    yyy = np.array(list(x) * len(x))\n",
    "    return np.reshape(list(map(lambda x, y: x*y, xxx, yyy)), (len(x), len(x)))\n",
    "\n",
    "def cov(X):\n",
    "    \"\"\"Computes X^t X by summing up the outer products of the rows of X\"\"\"\n",
    "    return np.array(reduce(lambda x, y: x + y, list(map(outer, X - mean(X)))))\n",
    "\n",
    "def cum_sum(vector):\n",
    "    \"\"\"Computes the cumulative sum of a vector\"\"\"\n",
    "    indeces = np.arange(1, len(vector)+1)\n",
    "    return list(map(lambda i: reduce(add, vector[:i], 0), indeces))\n"
   ]
  },
  {
   "cell_type": "code",
   "execution_count": 2,
   "metadata": {},
   "outputs": [],
   "source": [
    "# Generate Data\n",
    "np.random.seed(123)\n",
    "X = np.random.normal(size=(5, 3))"
   ]
  },
  {
   "cell_type": "code",
   "execution_count": 3,
   "metadata": {},
   "outputs": [],
   "source": [
    "# Compute eigendecomposition of the covariance matrix\n",
    "values, vectors = np.linalg.eigh(cov(X))\n",
    "# Eigenvalues are returned in ascending order! \n",
    "values, vectors = values[::-1], vectors[:, ::-1]\n",
    "values_matrix = np.diag(values)"
   ]
  },
  {
   "cell_type": "code",
   "execution_count": 4,
   "metadata": {},
   "outputs": [
    {
     "data": {
      "text/plain": [
       "2"
      ]
     },
     "execution_count": 4,
     "metadata": {},
     "output_type": "execute_result"
    }
   ],
   "source": [
    "# Compute total variation\n",
    "total_variation = reduce(add, values)\n",
    "# Compute the proportion of variability\n",
    "prop_variability = list(map(lambda a, b: a / b, cum_sum(values), [total_variation]*len(values)))\n",
    "# Choose a threshold\n",
    "threshold = 0.9\n",
    "# Keep index where threshold is achieved\n",
    "n_principal_components = np.nonzero(list(map(lambda x: x >= threshold, prop_variability)))[0][0] + 1\n",
    "n_principal_components"
   ]
  },
  {
   "cell_type": "markdown",
   "metadata": {},
   "source": [
    "In the examples above we have seen how actually one can combine `map` and `reduce` in a number of ways. Of course the most standard way is that of using a map and feeding it into a reduce to be able to compute the final result. For instance, suppose we want to sum the remainder mod 7 of all the elements of a list. Then we could do something like this"
   ]
  },
  {
   "cell_type": "code",
   "execution_count": 5,
   "metadata": {},
   "outputs": [
    {
     "data": {
      "text/plain": [
       "5"
      ]
     },
     "execution_count": 5,
     "metadata": {},
     "output_type": "execute_result"
    }
   ],
   "source": [
    "mylist = [7, 3, 14, 2, 21]\n",
    "reduce(lambda x, y: x+y, map(lambda x: x % 7, mylist))"
   ]
  },
  {
   "cell_type": "markdown",
   "metadata": {},
   "source": [
    "We can also use `map` and `reduce` to compute matrix multiplication. First of all, we create a list of all possible tuples of indeces of the matrix."
   ]
  },
  {
   "cell_type": "code",
   "execution_count": 6,
   "metadata": {},
   "outputs": [],
   "source": [
    "prod= lambda n, m: reduce(lambda x, y: x+y, map(lambda i: list(map(lambda j: (i, j), np.arange(m))), np.arange(n)), [])"
   ]
  },
  {
   "cell_type": "markdown",
   "metadata": {},
   "source": [
    "Next we generate some data."
   ]
  },
  {
   "cell_type": "code",
   "execution_count": 7,
   "metadata": {},
   "outputs": [],
   "source": [
    "np.random.seed(123)\n",
    "A = np.random.randint(-10, 10, size=(5, 5))\n",
    "B = np.random.randint(-10, 10, size=(5, 5))"
   ]
  },
  {
   "cell_type": "markdown",
   "metadata": {},
   "source": [
    "We can then use the following combinations of `map` and `reduce` to compute the matrix product."
   ]
  },
  {
   "cell_type": "code",
   "execution_count": 8,
   "metadata": {},
   "outputs": [
    {
     "data": {
      "text/plain": [
       "array([[ 112,  112,   17,  213,   62],\n",
       "       [ 125,   66,   11,  232,  -20],\n",
       "       [  26, -173,  113,   27,  -17],\n",
       "       [ -60, -115,   35,  -81,  -97],\n",
       "       [ -64,   14,   81,   57,   22]])"
      ]
     },
     "execution_count": 8,
     "metadata": {},
     "output_type": "execute_result"
    }
   ],
   "source": [
    "out = np.reshape(list(map(lambda ij_tuple: reduce(lambda x, y: x + y, map(lambda x, y: x*y, A[ij_tuple[0], :], B[:, ij_tuple[1]])), prod(5, 5))), (5, 5))\n",
    "out"
   ]
  },
  {
   "cell_type": "markdown",
   "metadata": {},
   "source": [
    "We can check that the above function works, by using NumPy."
   ]
  },
  {
   "cell_type": "code",
   "execution_count": 9,
   "metadata": {},
   "outputs": [
    {
     "data": {
      "text/plain": [
       "True"
      ]
     },
     "execution_count": 9,
     "metadata": {},
     "output_type": "execute_result"
    }
   ],
   "source": [
    "np.array_equal(np.dot(A, B), out)"
   ]
  },
  {
   "cell_type": "markdown",
   "metadata": {},
   "source": [
    "### Multiprocessing"
   ]
  },
  {
   "cell_type": "markdown",
   "metadata": {},
   "source": [
    "Unfortunately, the method above for matrix multiplications uses lambdas, which are not supported by the `multiprocessing` package. Therefore we write the following functions using standard function definitions"
   ]
  },
  {
   "cell_type": "code",
   "execution_count": 10,
   "metadata": {},
   "outputs": [],
   "source": [
    "def add(x, y):\n",
    "    return x + y\n",
    "\n",
    "def prod(x, y):\n",
    "    return x * y\n",
    "\n",
    "def dot_product(i, j):\n",
    "    return reduce(add, map(prod, A[i, :], B[:, j]))"
   ]
  },
  {
   "cell_type": "markdown",
   "metadata": {},
   "source": [
    "And then we can parallelize matrix multiplication, as shown in script `parallel_multiplication.py`, by feeding the `dot_product` function to a `starmap` as follows `pool.starmap(dot_product, product(np.arange(n), np.arange(n)))`"
   ]
  },
  {
   "cell_type": "code",
   "execution_count": 11,
   "metadata": {},
   "outputs": [
    {
     "name": "stdout",
     "output_type": "stream",
     "text": [
      "[[ 251 -259 -459 ...  546  793 -112]\n",
      " [-679 -336 -249 ... -112  462  119]\n",
      " [  78 -239 -499 ...  902 -210 -208]\n",
      " ...\n",
      " [  47  -12  197 ... -135 -612  695]\n",
      " [ 289   46 -353 ... -129 -272 -162]\n",
      " [ 297  189 -404 ... -169   82  338]]\n"
     ]
    }
   ],
   "source": [
    "! python parallel_multiplication.py"
   ]
  },
  {
   "cell_type": "markdown",
   "metadata": {},
   "source": [
    "### Asynchronous"
   ]
  },
  {
   "cell_type": "markdown",
   "metadata": {},
   "source": [
    "We can also work asynchronously. We will consider mainly two functions:\n",
    "\n",
    "- `apply_async()` which can be used when a function requires multiple arguments.\n",
    "- `map_async()` which can be used when the function requires only one argument.\n",
    "\n",
    "In the script `asynchronous.py` we see an example of how to use such functions to run multiple different functions in parallel, and how to check whether the processes have finished and weather they have been successful."
   ]
  },
  {
   "cell_type": "code",
   "execution_count": 12,
   "metadata": {},
   "outputs": [
    {
     "name": "stdout",
     "output_type": "stream",
     "text": [
      "Process finished. Result 3\n",
      "Process finished. Result 1.7142857142857142\n",
      "Process finished. Result 2.0\n",
      "Process finished. Result -1\n",
      "Process finished. Result 1.0\n",
      "Process finished. Result 400\n",
      "Process finished. Result [-98, 66, 133, 71, 65, 132, 27, -73, 335, 1, -73, 86, 39, 190, -1, 152, 5, -200, 255, 36, 120, 47, -258, -39, 37, 40, 174, 65, -104, -74, 5, -23, -55, 145, 173, 49, 223, 36, 48, 32, 94, 23, -50, 36, -1, 115, 21, 39, 45, 57, 191, -1, -50, 109, 79, -43, -124, 30, 42, -80, -215, 0, 306, -47, -131, -17, -8, -110, -10, 55, 195, -6, -172, 158, 136, -67, -41, 47, -32, 6, 32, 46, -79, 81, -116, -163, -37, -22, -22, 144, 218, -36, -218, 42, 89, -177, 20, 181, -101, -8]\n"
     ]
    }
   ],
   "source": [
    "! python asynchronous.py"
   ]
  },
  {
   "cell_type": "markdown",
   "metadata": {},
   "source": [
    "### Distributed Parallel Python with Scoop"
   ]
  },
  {
   "cell_type": "markdown",
   "metadata": {},
   "source": [
    "We can also distribute `map` across a cluster using the `Scoop` package. We install it in the environment using `conda install -c bioconda scoop` and then we can use script `Distributed.py` to perform some distributed, parallel calculation."
   ]
  },
  {
   "cell_type": "code",
   "execution_count": 13,
   "metadata": {},
   "outputs": [
    {
     "name": "stdout",
     "output_type": "stream",
     "text": [
      "[2020-05-30 10:27:20,845] launcher  INFO    SCOOP 0.7 1.1 on linux using Python 3.7.4 (default, Aug 13 2019, 20:35:49) [GCC 7.3.0], API: 1013\n",
      "[2020-05-30 10:27:20,845] launcher  INFO    Deploying 8 worker(s) over 1 host(s).\n",
      "[2020-05-30 10:27:20,845] launcher  INFO    Worker distribution: \n",
      "[2020-05-30 10:27:20,845] launcher  INFO       127.0.0.1:\t7 + origin\n",
      "Result:  -1583\n",
      "[2020-05-30 10:27:21,678] launcher  (127.0.0.1:36883) INFO    Root process is done.\n",
      "[2020-05-30 10:27:21,678] launcher  (127.0.0.1:36883) INFO    Finished cleaning spawned subprocesses.\n"
     ]
    }
   ],
   "source": [
    "! python -m scoop Distributed.py"
   ]
  },
  {
   "cell_type": "code",
   "execution_count": null,
   "metadata": {},
   "outputs": [],
   "source": []
  }
 ],
 "metadata": {
  "kernelspec": {
   "display_name": "Python 3",
   "language": "python",
   "name": "python3"
  },
  "language_info": {
   "codemirror_mode": {
    "name": "ipython",
    "version": 3
   },
   "file_extension": ".py",
   "mimetype": "text/x-python",
   "name": "python",
   "nbconvert_exporter": "python",
   "pygments_lexer": "ipython3",
   "version": "3.7.4"
  }
 },
 "nbformat": 4,
 "nbformat_minor": 4
}
